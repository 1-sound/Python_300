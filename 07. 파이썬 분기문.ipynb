{
 "cells": [
  {
   "cell_type": "markdown",
   "id": "0ea33c2a",
   "metadata": {},
   "source": [
    "## 07. 파이썬 분기문\n",
    "#### 101 ~ 110"
   ]
  },
  {
   "cell_type": "code",
   "execution_count": 1,
   "id": "0c54b3db",
   "metadata": {},
   "outputs": [],
   "source": [
    "# True & False = Boolean"
   ]
  },
  {
   "cell_type": "code",
   "execution_count": 2,
   "id": "8b92f501",
   "metadata": {},
   "outputs": [
    {
     "name": "stdout",
     "output_type": "stream",
     "text": [
      "False\n"
     ]
    }
   ],
   "source": [
    "print(3 == 5)"
   ]
  },
  {
   "cell_type": "code",
   "execution_count": 3,
   "id": "64d3d4b0",
   "metadata": {},
   "outputs": [
    {
     "name": "stdout",
     "output_type": "stream",
     "text": [
      "True\n"
     ]
    }
   ],
   "source": [
    "print(3 < 5)"
   ]
  },
  {
   "cell_type": "code",
   "execution_count": 4,
   "id": "8ba7d8e3",
   "metadata": {},
   "outputs": [
    {
     "name": "stdout",
     "output_type": "stream",
     "text": [
      "True\n"
     ]
    }
   ],
   "source": [
    "x = 4\n",
    "print(1 < x < 5)"
   ]
  },
  {
   "cell_type": "code",
   "execution_count": 7,
   "id": "a954ddb2",
   "metadata": {},
   "outputs": [
    {
     "name": "stdout",
     "output_type": "stream",
     "text": [
      "True\n"
     ]
    }
   ],
   "source": [
    "print((3 == 3)and (4 != 3))\n",
    "# != : ≠"
   ]
  },
  {
   "cell_type": "code",
   "execution_count": 12,
   "id": "358b9fc7",
   "metadata": {},
   "outputs": [
    {
     "name": "stdout",
     "output_type": "stream",
     "text": [
      "True\n"
     ]
    }
   ],
   "source": [
    "# print(3 => 4) (X)\n",
    "print(3 <= 4)"
   ]
  },
  {
   "cell_type": "code",
   "execution_count": 13,
   "id": "d8433c5c",
   "metadata": {},
   "outputs": [],
   "source": [
    "if 4 < 3:\n",
    "    print(\"Hello World\")"
   ]
  },
  {
   "cell_type": "code",
   "execution_count": 14,
   "id": "aa652c7e",
   "metadata": {},
   "outputs": [
    {
     "name": "stdout",
     "output_type": "stream",
     "text": [
      "Hi, there.\n"
     ]
    }
   ],
   "source": [
    "if 4 < 3:\n",
    "    print(\"Hello World\")\n",
    "else:\n",
    "    print(\"Hi, there.\")"
   ]
  },
  {
   "cell_type": "code",
   "execution_count": 15,
   "id": "5fae44b2",
   "metadata": {},
   "outputs": [
    {
     "name": "stdout",
     "output_type": "stream",
     "text": [
      "1\n",
      "2\n",
      "4\n"
     ]
    }
   ],
   "source": [
    "if True:\n",
    "    print(\"1\")\n",
    "    print(\"2\")\n",
    "else:\n",
    "    print(\"3\")\n",
    "print(\"4\")"
   ]
  },
  {
   "cell_type": "code",
   "execution_count": 16,
   "id": "b83e3a63",
   "metadata": {},
   "outputs": [
    {
     "name": "stdout",
     "output_type": "stream",
     "text": [
      "3\n",
      "5\n"
     ]
    }
   ],
   "source": [
    "if True:\n",
    "    if False:\n",
    "        print(\"1\")\n",
    "        print(\"2\")\n",
    "    else:\n",
    "        print(\"3\")\n",
    "else:\n",
    "    print(\"4\")\n",
    "print(\"5\")"
   ]
  },
  {
   "cell_type": "markdown",
   "id": "824ab748",
   "metadata": {},
   "source": [
    "#### 111 ~ 120"
   ]
  },
  {
   "cell_type": "code",
   "execution_count": 2,
   "id": "99e2005e",
   "metadata": {},
   "outputs": [
    {
     "name": "stdout",
     "output_type": "stream",
     "text": [
      "안녕하세요\n",
      "안녕하세요안녕하세요\n"
     ]
    }
   ],
   "source": [
    "a = input()\n",
    "print(a + a)"
   ]
  },
  {
   "cell_type": "code",
   "execution_count": 4,
   "id": "1b916f1c",
   "metadata": {},
   "outputs": [
    {
     "name": "stdout",
     "output_type": "stream",
     "text": [
      "숫자를 입력하세요:30\n",
      "40\n"
     ]
    }
   ],
   "source": [
    "a = input(\"숫자를 입력하세요:\")\n",
    "print(int(a) + 10)"
   ]
  },
  {
   "cell_type": "code",
   "execution_count": 8,
   "id": "e956e428",
   "metadata": {},
   "outputs": [
    {
     "name": "stdout",
     "output_type": "stream",
     "text": [
      "30\n",
      "짝수\n"
     ]
    }
   ],
   "source": [
    "a = int(input())\n",
    "if a % 2 == 0:\n",
    "    print(\"짝수\")\n",
    "else:\n",
    "    print(\"홀수\")"
   ]
  },
  {
   "cell_type": "code",
   "execution_count": 10,
   "id": "d593ac91",
   "metadata": {},
   "outputs": [
    {
     "name": "stdout",
     "output_type": "stream",
     "text": [
      "240\n",
      "255\n"
     ]
    }
   ],
   "source": [
    "a = int(input())\n",
    "b = a + 20\n",
    "\n",
    "if b <=255:\n",
    "    print(b)\n",
    "else:\n",
    "    print(\"255\")"
   ]
  },
  {
   "cell_type": "code",
   "execution_count": 14,
   "id": "65422d95",
   "metadata": {},
   "outputs": [
    {
     "name": "stdout",
     "output_type": "stream",
     "text": [
      "15\n",
      "0\n"
     ]
    }
   ],
   "source": [
    "a = int(input())\n",
    "b = a - 20\n",
    "\n",
    "if b < 0:\n",
    "    print(\"0\")\n",
    "elif b > 255:\n",
    "    print(\"255\")\n",
    "else:\n",
    "    print(b)"
   ]
  },
  {
   "cell_type": "code",
   "execution_count": 17,
   "id": "47e6bb8b",
   "metadata": {
    "scrolled": true
   },
   "outputs": [
    {
     "name": "stdout",
     "output_type": "stream",
     "text": [
      "현재시간:03:10\n",
      "정각이 아닙니다\n"
     ]
    }
   ],
   "source": [
    "time = input(\"현재시간:\")\n",
    "if time[-2:] == \"00\":\n",
    "    print(\"정각입니다.\")\n",
    "else:\n",
    "    print(\"정각이 아닙니다\")"
   ]
  },
  {
   "cell_type": "code",
   "execution_count": 20,
   "id": "c29a0fb6",
   "metadata": {
    "scrolled": false
   },
   "outputs": [
    {
     "name": "stdout",
     "output_type": "stream",
     "text": [
      "좋아하는 과일은?사과\n",
      "정답입니다.\n"
     ]
    }
   ],
   "source": [
    "fruit = [\"사과\", \"포도\", \"홍시\"]\n",
    "fav = input(\"좋아하는 과일은?\")\n",
    "\n",
    "if fav in fruit:\n",
    "    print(\"정답입니다.\")\n",
    "else:\n",
    "    print(\"오답입니다.\")"
   ]
  },
  {
   "cell_type": "code",
   "execution_count": 21,
   "id": "eb9d68c2",
   "metadata": {},
   "outputs": [
    {
     "name": "stdout",
     "output_type": "stream",
     "text": [
      "종목명:LG\n",
      "투자 경고 종목입니다.\n"
     ]
    }
   ],
   "source": [
    "warn_investment_list = [\n",
    "    \"Microsoft\",\n",
    "    \"Google\",\n",
    "    \"Naver\",\n",
    "    \"Kakao\",\n",
    "    \"SAMSUNG\",\n",
    "    \"LG\"\n",
    "]\n",
    "a = input(\"종목명:\")\n",
    "\n",
    "if a in warn_investment_list:\n",
    "    print(\"투자 경고 종목입니다.\")\n",
    "else:\n",
    "    print(\"투자 경고 종목이 아닙니다.\")"
   ]
  },
  {
   "cell_type": "code",
   "execution_count": 23,
   "id": "212ce1b8",
   "metadata": {},
   "outputs": [
    {
     "name": "stdout",
     "output_type": "stream",
     "text": [
      "제가 좋아하는 계절은?봄\n",
      "정답입니다.\n"
     ]
    }
   ],
   "source": [
    "fruit = {\n",
    "    \"봄\" : \"딸기\",\n",
    "    \"여름\" : \"토마토\",\n",
    "    \"가을\" : \"사과\"\n",
    "}\n",
    "a = input(\"제가 좋아하는 계절은?\")\n",
    "\n",
    "if a in fruit:\n",
    "    print(\"정답입니다.\")\n",
    "else:\n",
    "    print(\"오답입니다.\")"
   ]
  },
  {
   "cell_type": "code",
   "execution_count": 26,
   "id": "4b1aff59",
   "metadata": {},
   "outputs": [
    {
     "name": "stdout",
     "output_type": "stream",
     "text": [
      "좋아하는 과일은?한라봉\n",
      "오답입니다.\n"
     ]
    }
   ],
   "source": [
    "fruit = {\n",
    "    \"봄\" : \"딸기\",\n",
    "    \"여름\" : \"토마토\",\n",
    "    \"가을\" : \"사과\"\n",
    "}\n",
    "a = input(\"좋아하는 과일은?\")\n",
    "\n",
    "if a in fruit.values():\n",
    "    print(\"정답입니다.\")\n",
    "else:\n",
    "    print(\"오답입니다.\")"
   ]
  },
  {
   "cell_type": "markdown",
   "id": "63a88fc2",
   "metadata": {},
   "source": [
    "#### 121 ~ 130"
   ]
  },
  {
   "cell_type": "code",
   "execution_count": 32,
   "id": "40a40b71",
   "metadata": {},
   "outputs": [
    {
     "name": "stdout",
     "output_type": "stream",
     "text": [
      "a\n",
      "A\n"
     ]
    }
   ],
   "source": [
    "a = input(\"\")\n",
    "if a.islower():\n",
    "    print(a.upper())\n",
    "else:\n",
    "    print(a.lower())"
   ]
  },
  {
   "cell_type": "code",
   "execution_count": 39,
   "id": "0f09af6a",
   "metadata": {},
   "outputs": [
    {
     "name": "stdout",
     "output_type": "stream",
     "text": [
      "score:83\n",
      "grade is A\n"
     ]
    }
   ],
   "source": [
    "score = int(input(\"score:\"))\n",
    "\n",
    "if 81 <= score <= 100:\n",
    "    print(\"grade is A\")\n",
    "elif 61 <= score:\n",
    "    print(\"grade is B\")\n",
    "elif 41 <= score:\n",
    "    print(\"grade is C\")\n",
    "elif 21 <= score:\n",
    "    print(\"grade is D\")\n",
    "else:\n",
    "    print(\"grade is E\")"
   ]
  },
  {
   "cell_type": "code",
   "execution_count": 45,
   "id": "e03cb00b",
   "metadata": {},
   "outputs": [
    {
     "name": "stdout",
     "output_type": "stream",
     "text": [
      "100 달러\n",
      "116700.0 원\n"
     ]
    }
   ],
   "source": [
    "a = input()\n",
    "환율 = {\n",
    "    \"달러\" : 1167,\n",
    "    \"엔\" : 1.096,\n",
    "    \"유로\" : 1268,\n",
    "    \"위안\" : 171\n",
    "}\n",
    "num, currency = a.split()\n",
    "print(float(num) * 환율[currency], \"원\")"
   ]
  },
  {
   "cell_type": "code",
   "execution_count": 46,
   "id": "6568d819",
   "metadata": {},
   "outputs": [
    {
     "name": "stdout",
     "output_type": "stream",
     "text": [
      "number1:10\n",
      "number2:9\n",
      "number3:20\n",
      "20\n"
     ]
    }
   ],
   "source": [
    "num1 = int(input(\"number1:\"))\n",
    "num2 = int(input(\"number2:\"))\n",
    "num3 = int(input(\"number3:\"))\n",
    "\n",
    "if num1 >= num2 and num1 >= num3:\n",
    "    print(num1)\n",
    "elif num2 >= num1 and num2 >= num3:\n",
    "    print(num2)\n",
    "else:\n",
    "    print(num3)"
   ]
  },
  {
   "cell_type": "code",
   "execution_count": 47,
   "id": "1af371fd",
   "metadata": {},
   "outputs": [
    {
     "name": "stdout",
     "output_type": "stream",
     "text": [
      "휴대전화 번호 입력:010-2157-4362\n",
      "알수없음\n"
     ]
    }
   ],
   "source": [
    "num = input(\"휴대전화 번호 입력:\")\n",
    "a, b, c = num.split(\"-\")\n",
    "if a == \"011\":\n",
    "    print(\"당신은 SKT 사용자입니다.\")\n",
    "elif a == \"016\":\n",
    "    print(\"당신은 KT 사용자입니다.\")\n",
    "elif a == \"019\":\n",
    "    print(\"당신은 LGU 사용자입니다.\")\n",
    "else:\n",
    "    print(\"알수없음\")"
   ]
  },
  {
   "cell_type": "code",
   "execution_count": 48,
   "id": "d3f26ae5",
   "metadata": {},
   "outputs": [
    {
     "name": "stdout",
     "output_type": "stream",
     "text": [
      "우편번호:01400\n",
      "도봉구\n"
     ]
    }
   ],
   "source": [
    "num = input(\"우편번호:\")\n",
    "num = int(num[2])\n",
    "\n",
    "if 0 <= num <= 2:\n",
    "    print(\"강북구\")\n",
    "elif 3 <= num <= 5:\n",
    "    print(\"도봉구\")\n",
    "else:\n",
    "    print(\"노원구\")"
   ]
  },
  {
   "cell_type": "code",
   "execution_count": 2,
   "id": "af2e7158",
   "metadata": {},
   "outputs": [
    {
     "name": "stdout",
     "output_type": "stream",
     "text": [
      "주민등록번호:124325 - 2352341\n",
      "여자\n"
     ]
    }
   ],
   "source": [
    "num = input(\"주민등록번호:\")\n",
    "num = int(num[-7])\n",
    "\n",
    "if num == 1 or num == 3:\n",
    "    print(\"남자\")\n",
    "elif num == 2 or num == 4:\n",
    "    print(\"여자\")"
   ]
  },
  {
   "cell_type": "code",
   "execution_count": 8,
   "id": "9d19de76",
   "metadata": {},
   "outputs": [
    {
     "name": "stdout",
     "output_type": "stream",
     "text": [
      "주민등록번호:123456-3561234\n",
      "서울이 아닙니다.\n"
     ]
    }
   ],
   "source": [
    "num = input(\"주민등록번호:\")\n",
    "num = num.split(\"-\")\n",
    "num = num[1][1:3]\n",
    "\n",
    "if 0 <= int(num) <= 8:\n",
    "    print(\"서울입니다.\")\n",
    "else:\n",
    "    print(\"서울이 아닙니다.\")"
   ]
  },
  {
   "cell_type": "code",
   "execution_count": 40,
   "id": "93422a51",
   "metadata": {},
   "outputs": [
    {
     "name": "stdout",
     "output_type": "stream",
     "text": [
      "주민등록번호: 821010-1635214\n",
      "유효한 주민등록번호입니다.\n"
     ]
    }
   ],
   "source": [
    "num = input(\"주민등록번호: \")\n",
    "계산1 = int(num[0]) * 2 + int(num[1]) * 3 + int(num[2]) * 4 + int(num[3]) * 5 + int(num[4]) * 6 + int(num[5]) * 7 + int(num[7]) * 8 + int(num[8]) * 9 + int(num[9]) * 2 + int(num[10])* 3 + int(num[11])* 4 + int(num[12]) * 5\n",
    "계산2 = 11 - (계산1 % 11)\n",
    "계산3 = str(계산2)\n",
    "\n",
    "if num[-1] == 계산3[-1]:\n",
    "    print(\"유효한 주민등록번호입니다.\")\n",
    "else:\n",
    "    print(\"유효하지 않은 주민등록번호입니다.\")"
   ]
  },
  {
   "cell_type": "code",
   "execution_count": 3,
   "id": "559764ab",
   "metadata": {},
   "outputs": [
    {
     "name": "stdout",
     "output_type": "stream",
     "text": [
      "상승장\n"
     ]
    }
   ],
   "source": [
    "import requests\n",
    "btc = requests.get(\"https://api.bithumb.com/public/ticker/\").json()['data']\n",
    "\n",
    "변동폭 = float(btc[\"max_price\"]) - float(btc[\"min_price\"])\n",
    "시가 = float(btc[\"opening_price\"])\n",
    "최고가 = float(btc[\"max_price\"])\n",
    "\n",
    "if 시가 + 변동폭 >= 최고가:\n",
    "    print(\"상승장\")\n",
    "else:\n",
    "    print(\"하락장\")"
   ]
  }
 ],
 "metadata": {
  "kernelspec": {
   "display_name": "Python 3 (ipykernel)",
   "language": "python",
   "name": "python3"
  },
  "language_info": {
   "codemirror_mode": {
    "name": "ipython",
    "version": 3
   },
   "file_extension": ".py",
   "mimetype": "text/x-python",
   "name": "python",
   "nbconvert_exporter": "python",
   "pygments_lexer": "ipython3",
   "version": "3.10.9"
  }
 },
 "nbformat": 4,
 "nbformat_minor": 5
}
